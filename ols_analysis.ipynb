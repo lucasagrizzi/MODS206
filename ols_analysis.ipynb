{
 "metadata": {
  "language_info": {
   "codemirror_mode": {
    "name": "ipython",
    "version": 3
   },
   "file_extension": ".py",
   "mimetype": "text/x-python",
   "name": "python",
   "nbconvert_exporter": "python",
   "pygments_lexer": "ipython3",
   "version": "3.8.5"
  },
  "orig_nbformat": 2,
  "kernelspec": {
   "name": "python38564bitvenv104dd00143d2433ab4646c6731c6ec84",
   "display_name": "Python 3.8.5 64-bit ('venv')",
   "language": "python"
  }
 },
 "nbformat": 4,
 "nbformat_minor": 2,
 "cells": [
  {
   "cell_type": "code",
   "execution_count": 58,
   "metadata": {},
   "outputs": [],
   "source": [
    "import warnings\n",
    "\n",
    "import numpy as np\n",
    "import pandas as pd\n",
    "import statsmodels.api as sm\n",
    "from matplotlib import pyplot as plt\n",
    "from sklearn.preprocessing import MinMaxScaler\n",
    "from statsmodels.graphics.tsaplots import plot_acf, plot_pacf"
   ]
  },
  {
   "cell_type": "code",
   "execution_count": 59,
   "metadata": {},
   "outputs": [],
   "source": [
    "# Ignoring warnings\n",
    "warnings.filterwarnings(\"ignore\")\n",
    "\n",
    "# Matplotlib styles\n",
    "plt.style.use('ggplot')\n",
    "plt.rcParams.update({\n",
    "    'figure.figsize': (15, 4),\n",
    "    'axes.prop_cycle': plt.cycler(color=[\"#4C72B0\", \"#C44E52\", \"#55A868\", \"#8172B2\", \"#CCB974\", \"#64B5CD\"]),\n",
    "    'axes.facecolor': \"#EAEAF2\"\n",
    "})"
   ]
  },
  {
   "cell_type": "code",
   "execution_count": 60,
   "metadata": {},
   "outputs": [],
   "source": [
    "# Reads the daily variables\n",
    "df_daily = pd.read_csv(\"./datasets/proc/daily_variables.csv.zip\", index_col=0, parse_dates=[\"date\"])\n",
    "\n",
    "# Scales the values to be between 0 and 1\n",
    "df_daily[df_daily.set_index('date').columns] = MinMaxScaler().fit_transform(df_daily[df_daily.set_index('date').columns])\n",
    "\n",
    "# Removes noise via moving average\n",
    "df_daily[df_daily.set_index('date').columns] = df_daily.iloc[:, 1:].ewm(span=40).mean()"
   ]
  },
  {
   "source": [
    "## ICON "
   ],
   "cell_type": "markdown",
   "metadata": {}
  },
  {
   "cell_type": "code",
   "execution_count": 61,
   "metadata": {},
   "outputs": [
    {
     "output_type": "stream",
     "name": "stdout",
     "text": [
      "                                 OLS Regression Results                                \n=======================================================================================\nDep. Variable:                   ICON   R-squared (uncentered):                   0.982\nModel:                            OLS   Adj. R-squared (uncentered):              0.982\nMethod:                 Least Squares   F-statistic:                          3.001e+04\nDate:                Sun, 04 Apr 2021   Prob (F-statistic):                        0.00\nTime:                        13:02:53   Log-Likelihood:                          3921.5\nNo. Observations:                2739   AIC:                                     -7833.\nDf Residuals:                    2734   BIC:                                     -7803.\nDf Model:                           5                                                  \nCovariance Type:            nonrobust                                                  \n==============================================================================\n                 coef    std err          t      P>|t|      [0.025      0.975]\n------------------------------------------------------------------------------\nDOLLAR         0.1007      0.011      9.130      0.000       0.079       0.122\nGDP            0.6452      0.008     79.418      0.000       0.629       0.661\nIPCA           0.1452      0.007     20.013      0.000       0.131       0.159\nSELIC         -0.1280      0.005    -26.260      0.000      -0.138      -0.118\nVIX            0.0795      0.010      7.864      0.000       0.060       0.099\n==============================================================================\nOmnibus:                       13.119   Durbin-Watson:                   0.001\nProb(Omnibus):                  0.001   Jarque-Bera (JB):               16.735\nSkew:                          -0.060   Prob(JB):                     0.000232\nKurtosis:                       3.364   Cond. No.                         14.2\n==============================================================================\n\nNotes:\n[1] R² is computed without centering (uncentered) since the model does not contain a constant.\n[2] Standard Errors assume that the covariance matrix of the errors is correctly specified.\n"
     ]
    }
   ],
   "source": [
    "# Creates and fits the model\n",
    "model = sm.OLS(df_daily['ICON'], df_daily[['DOLLAR', 'GDP', 'IPCA', 'SELIC', 'VIX']])\n",
    "model = model.fit()\n",
    "\n",
    "# Prints results\n",
    "print(model.summary())"
   ]
  },
  {
   "source": [
    "## IEEX"
   ],
   "cell_type": "markdown",
   "metadata": {}
  },
  {
   "cell_type": "code",
   "execution_count": 62,
   "metadata": {},
   "outputs": [
    {
     "output_type": "error",
     "ename": "SyntaxError",
     "evalue": "invalid syntax (<ipython-input-62-a1ada76d6512>, line 2)",
     "traceback": [
      "\u001b[1;36m  File \u001b[1;32m\"<ipython-input-62-a1ada76d6512>\"\u001b[1;36m, line \u001b[1;32m2\u001b[0m\n\u001b[1;33m    model = sm.OLS(df_daily['IEEX'].iloc[:, df.shape[0]//], df_daily[['DOLLAR', 'GDP', 'IPCA', 'SELIC', 'VIX']])\u001b[0m\n\u001b[1;37m                                                         ^\u001b[0m\n\u001b[1;31mSyntaxError\u001b[0m\u001b[1;31m:\u001b[0m invalid syntax\n"
     ]
    }
   ],
   "source": [
    "# Creates and fits the model\n",
    "model = sm.OLS(df_daily['IEEX'], df_daily[['DOLLAR', 'GDP', 'IPCA', 'SELIC', 'VIX']])\n",
    "model = model.fit()\n",
    "\n",
    "# Prints results\n",
    "print(model.summary())"
   ]
  },
  {
   "source": [
    "## IFNC"
   ],
   "cell_type": "markdown",
   "metadata": {}
  },
  {
   "cell_type": "code",
   "execution_count": 50,
   "metadata": {},
   "outputs": [
    {
     "output_type": "stream",
     "name": "stdout",
     "text": [
      "                                 OLS Regression Results                                \n=======================================================================================\nDep. Variable:                   IFNC   R-squared (uncentered):                   0.952\nModel:                            OLS   Adj. R-squared (uncentered):              0.952\nMethod:                 Least Squares   F-statistic:                          1.089e+04\nDate:                Sun, 04 Apr 2021   Prob (F-statistic):                        0.00\nTime:                        12:55:14   Log-Likelihood:                          2632.8\nNo. Observations:                2739   AIC:                                     -5256.\nDf Residuals:                    2734   BIC:                                     -5226.\nDf Model:                           5                                                  \nCovariance Type:            nonrobust                                                  \n==============================================================================\n                 coef    std err          t      P>|t|      [0.025      0.975]\n------------------------------------------------------------------------------\nDOLLAR         0.0162      0.018      0.916      0.360      -0.018       0.051\nGDP            0.7421      0.013     57.064      0.000       0.717       0.768\nIPCA           0.0280      0.012      2.412      0.016       0.005       0.051\nSELIC         -0.1644      0.008    -21.072      0.000      -0.180      -0.149\nVIX            0.2687      0.016     16.597      0.000       0.237       0.300\n==============================================================================\nOmnibus:                       96.086   Durbin-Watson:                   0.001\nProb(Omnibus):                  0.000   Jarque-Bera (JB):               98.418\nSkew:                           0.436   Prob(JB):                     4.25e-22\nKurtosis:                       2.683   Cond. No.                         14.2\n==============================================================================\n\nNotes:\n[1] R² is computed without centering (uncentered) since the model does not contain a constant.\n[2] Standard Errors assume that the covariance matrix of the errors is correctly specified.\n"
     ]
    }
   ],
   "source": [
    "# Creates and fits the model\n",
    "model = sm.OLS(df_daily['IFNC'], df_daily[['DOLLAR', 'GDP', 'IPCA', 'SELIC', 'VIX']])\n",
    "model = model.fit()\n",
    "\n",
    "# Prints results\n",
    "print(model.summary())"
   ]
  },
  {
   "source": [
    "## IMAT"
   ],
   "cell_type": "markdown",
   "metadata": {}
  },
  {
   "cell_type": "code",
   "execution_count": 51,
   "metadata": {},
   "outputs": [
    {
     "output_type": "stream",
     "name": "stdout",
     "text": [
      "                                 OLS Regression Results                                \n=======================================================================================\nDep. Variable:                   IMAT   R-squared (uncentered):                   0.834\nModel:                            OLS   Adj. R-squared (uncentered):              0.834\nMethod:                 Least Squares   F-statistic:                              2752.\nDate:                Sun, 04 Apr 2021   Prob (F-statistic):                        0.00\nTime:                        12:55:14   Log-Likelihood:                          1757.4\nNo. Observations:                2739   AIC:                                     -3505.\nDf Residuals:                    2734   BIC:                                     -3475.\nDf Model:                           5                                                  \nCovariance Type:            nonrobust                                                  \n==============================================================================\n                 coef    std err          t      P>|t|      [0.025      0.975]\n------------------------------------------------------------------------------\nDOLLAR        -0.0357      0.024     -1.469      0.142      -0.083       0.012\nGDP            0.3528      0.018     19.704      0.000       0.318       0.388\nIPCA           0.4045      0.016     25.303      0.000       0.373       0.436\nSELIC         -0.3052      0.011    -28.425      0.000      -0.326      -0.284\nVIX            0.5270      0.022     23.646      0.000       0.483       0.571\n==============================================================================\nOmnibus:                       37.993   Durbin-Watson:                   0.001\nProb(Omnibus):                  0.000   Jarque-Bera (JB):               23.053\nSkew:                           0.033   Prob(JB):                     9.86e-06\nKurtosis:                       2.555   Cond. No.                         14.2\n==============================================================================\n\nNotes:\n[1] R² is computed without centering (uncentered) since the model does not contain a constant.\n[2] Standard Errors assume that the covariance matrix of the errors is correctly specified.\n"
     ]
    }
   ],
   "source": [
    "# Creates and fits the model\n",
    "model = sm.OLS(df_daily['IMAT'], df_daily[['DOLLAR', 'GDP', 'IPCA', 'SELIC', 'VIX']])\n",
    "model = model.fit()\n",
    "\n",
    "# Prints results\n",
    "print(model.summary())"
   ]
  },
  {
   "source": [
    "## IMOB"
   ],
   "cell_type": "markdown",
   "metadata": {}
  },
  {
   "cell_type": "code",
   "execution_count": 52,
   "metadata": {},
   "outputs": [
    {
     "output_type": "stream",
     "name": "stdout",
     "text": [
      "                                 OLS Regression Results                                \n=======================================================================================\nDep. Variable:                   IMOB   R-squared (uncentered):                   0.869\nModel:                            OLS   Adj. R-squared (uncentered):              0.869\nMethod:                 Least Squares   F-statistic:                              3624.\nDate:                Sun, 04 Apr 2021   Prob (F-statistic):                        0.00\nTime:                        12:55:14   Log-Likelihood:                          1140.7\nNo. Observations:                2739   AIC:                                     -2271.\nDf Residuals:                    2734   BIC:                                     -2242.\nDf Model:                           5                                                  \nCovariance Type:            nonrobust                                                  \n==============================================================================\n                 coef    std err          t      P>|t|      [0.025      0.975]\n------------------------------------------------------------------------------\nDOLLAR        -0.6938      0.030    -22.794      0.000      -0.753      -0.634\nGDP            0.7243      0.022     32.302      0.000       0.680       0.768\nIPCA           0.5117      0.020     25.557      0.000       0.472       0.551\nSELIC         -0.2188      0.013    -16.272      0.000      -0.245      -0.192\nVIX            0.7364      0.028     26.379      0.000       0.682       0.791\n==============================================================================\nOmnibus:                       31.881   Durbin-Watson:                   0.001\nProb(Omnibus):                  0.000   Jarque-Bera (JB):               27.058\nSkew:                          -0.180   Prob(JB):                     1.33e-06\nKurtosis:                       2.672   Cond. No.                         14.2\n==============================================================================\n\nNotes:\n[1] R² is computed without centering (uncentered) since the model does not contain a constant.\n[2] Standard Errors assume that the covariance matrix of the errors is correctly specified.\n"
     ]
    }
   ],
   "source": [
    "# Creates and fits the model\n",
    "model = sm.OLS(df_daily['IMOB'], df_daily[['DOLLAR', 'GDP', 'IPCA', 'SELIC', 'VIX']])\n",
    "model = model.fit()\n",
    "\n",
    "# Prints results\n",
    "print(model.summary())"
   ]
  },
  {
   "source": [
    "## INDX"
   ],
   "cell_type": "markdown",
   "metadata": {}
  },
  {
   "cell_type": "code",
   "execution_count": 53,
   "metadata": {},
   "outputs": [
    {
     "output_type": "stream",
     "name": "stdout",
     "text": [
      "                                 OLS Regression Results                                \n=======================================================================================\nDep. Variable:                   INDX   R-squared (uncentered):                   0.969\nModel:                            OLS   Adj. R-squared (uncentered):              0.969\nMethod:                 Least Squares   F-statistic:                          1.718e+04\nDate:                Sun, 04 Apr 2021   Prob (F-statistic):                        0.00\nTime:                        12:55:14   Log-Likelihood:                          3050.0\nNo. Observations:                2739   AIC:                                     -6090.\nDf Residuals:                    2734   BIC:                                     -6060.\nDf Model:                           5                                                  \nCovariance Type:            nonrobust                                                  \n==============================================================================\n                 coef    std err          t      P>|t|      [0.025      0.975]\n------------------------------------------------------------------------------\nDOLLAR         0.0359      0.015      2.371      0.018       0.006       0.066\nGDP            0.5532      0.011     49.534      0.000       0.531       0.575\nIPCA           0.3534      0.010     35.440      0.000       0.334       0.373\nSELIC         -0.1314      0.007    -19.623      0.000      -0.145      -0.118\nVIX            0.1496      0.014     10.757      0.000       0.122       0.177\n==============================================================================\nOmnibus:                        7.109   Durbin-Watson:                   0.001\nProb(Omnibus):                  0.029   Jarque-Bera (JB):                7.251\nSkew:                           0.099   Prob(JB):                       0.0266\nKurtosis:                       3.157   Cond. No.                         14.2\n==============================================================================\n\nNotes:\n[1] R² is computed without centering (uncentered) since the model does not contain a constant.\n[2] Standard Errors assume that the covariance matrix of the errors is correctly specified.\n"
     ]
    }
   ],
   "source": [
    "# Creates and fits the model\n",
    "model = sm.OLS(df_daily['INDX'], df_daily[['DOLLAR', 'GDP', 'IPCA', 'SELIC', 'VIX']])\n",
    "model = model.fit()\n",
    "\n",
    "# Prints results\n",
    "print(model.summary())"
   ]
  },
  {
   "source": [
    "## UTIL"
   ],
   "cell_type": "markdown",
   "metadata": {}
  },
  {
   "cell_type": "code",
   "execution_count": 54,
   "metadata": {},
   "outputs": [
    {
     "output_type": "stream",
     "name": "stdout",
     "text": [
      "                                 OLS Regression Results                                \n=======================================================================================\nDep. Variable:                   UTIL   R-squared (uncentered):                   0.935\nModel:                            OLS   Adj. R-squared (uncentered):              0.935\nMethod:                 Least Squares   F-statistic:                              7861.\nDate:                Sun, 04 Apr 2021   Prob (F-statistic):                        0.00\nTime:                        12:55:14   Log-Likelihood:                          2632.6\nNo. Observations:                2739   AIC:                                     -5255.\nDf Residuals:                    2734   BIC:                                     -5226.\nDf Model:                           5                                                  \nCovariance Type:            nonrobust                                                  \n==============================================================================\n                 coef    std err          t      P>|t|      [0.025      0.975]\n------------------------------------------------------------------------------\nDOLLAR         0.0345      0.018      1.953      0.051      -0.000       0.069\nGDP            0.6230      0.013     47.900      0.000       0.597       0.649\nIPCA           0.1002      0.012      8.632      0.000       0.077       0.123\nSELIC         -0.2759      0.008    -35.368      0.000      -0.291      -0.261\nVIX            0.4710      0.016     29.087      0.000       0.439       0.503\n==============================================================================\nOmnibus:                       60.434   Durbin-Watson:                   0.001\nProb(Omnibus):                  0.000   Jarque-Bera (JB):               51.155\nSkew:                           0.268   Prob(JB):                     7.79e-12\nKurtosis:                       2.600   Cond. No.                         14.2\n==============================================================================\n\nNotes:\n[1] R² is computed without centering (uncentered) since the model does not contain a constant.\n[2] Standard Errors assume that the covariance matrix of the errors is correctly specified.\n"
     ]
    }
   ],
   "source": [
    "# Creates and fits the model\n",
    "model = sm.OLS(df_daily['UTIL'], df_daily[['DOLLAR', 'GDP', 'IPCA', 'SELIC', 'VIX']])\n",
    "model = model.fit()\n",
    "\n",
    "# Prints results\n",
    "print(model.summary())"
   ]
  }
 ]
}