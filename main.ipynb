{
 "cells": [
  {
   "cell_type": "markdown",
   "metadata": {},
   "source": [
    "# The Impact of Lower Interest Rates in Brazilian Stock Market\n",
    "\n",
    "*By Daniel Deutsch, José Lucas Barretto, Kevin kühl and Lucas Miguel Agrizzi*"
   ]
  },
  {
   "cell_type": "code",
   "execution_count": 1,
   "metadata": {},
   "outputs": [],
   "source": [
    "import os\n",
    "import time\n",
    "from datetime import date\n",
    "from io import BytesIO\n",
    "from zipfile import ZipFile\n",
    "\n",
    "import matplotlib.pyplot as plt\n",
    "import pandas as pd\n",
    "import requests\n",
    "import yfinance as yf\n",
    "from requests.packages.urllib3.exceptions import InsecureRequestWarning"
   ]
  },
  {
   "cell_type": "code",
   "execution_count": 2,
   "metadata": {},
   "outputs": [],
   "source": [
    "# Warnings\n",
    "requests.packages.urllib3.disable_warnings(InsecureRequestWarning)\n",
    "\n",
    "# Matplotlib styles\n",
    "plt.style.use('ggplot')\n",
    "plt.rcParams.update({\n",
    "    'figure.figsize': (15, 4),\n",
    "    'axes.prop_cycle': plt.cycler(color=[\"#4C72B0\", \"#C44E52\", \"#55A868\", \"#8172B2\", \"#CCB974\", \"#64B5CD\"]),\n",
    "    'axes.facecolor': \"#EAEAF2\"\n",
    "})"
   ]
  },
  {
   "cell_type": "markdown",
   "metadata": {},
   "source": [
    "# Data Ingestion\n",
    "\n",
    "In this stage, we want to collect the data necessary for our analysis. In our case, we must collect two kinds of data: brazilian economic sector indexes (our explained variables) and other variables that we believe might have some influence over the indexes (the explanatory variables)."
   ]
  },
  {
   "cell_type": "markdown",
   "metadata": {},
   "source": [
    "## Explained Variables\n",
    "\n",
    "### Sector Indexes\n",
    "\n",
    "An economic index is basically a statistic about an economic activity. Economic indexes allow analysis of economic performance and forecasts of future performance. Therefore, sector indexes are a great way to understand the performance of a certain sector of the economy (such as electricity, basic materials, etc.) in the stock market.\n",
    "\n",
    "Given that, the group decided to understand the effects of lower interest rates on the following indexes, considered by us the most influential in the brazillian market:\n",
    "\n",
    "| Index &emsp;  | Index Name                         | Sector           |\n",
    "|:--------------|:-----------------------------------|:-----------------|\n",
    "| `ICON`        | Índice de Consumo                  | Cyclical consumption, non-cyclical consumption and health |\n",
    "| `IEEX`        | Índice de Energia Elétrica &emsp;  | Electricity |\n",
    "| `IFNC`        | Índice Financeiro                  | Financial intermediaries, miscellaneous financial services, pension and insurance |\n",
    "| `IMAT`        | Índice de Materiais Básicos        | Basic materials |\n",
    "| `IMOB`        | Índice Imobiliário                 | Real estate and civil construction |\n",
    "| `INDX`        | Índice Industrial                  | Basic materials, industrial goods, cyclical consumption, non-cyclical consumption, information technology and health |\n",
    "| `UTIL`        | Índice Utilidade Pública           | Electricity, water and sanitation and gas |"
   ]
  },
  {
   "cell_type": "code",
   "execution_count": 6,
   "metadata": {
    "tags": []
   },
   "outputs": [
    {
     "name": "stdout",
     "output_type": "stream",
     "text": [
      "Progress indexes 7/7 years 24/24 df_index_size 6324"
     ]
    }
   ],
   "source": [
    "indexes = [\n",
    "    { 'index': \"ICON\", 'url_code': \"klDT04\" },\n",
    "    { 'index': \"IEEX\", 'url_code': \"klFRVg\" },\n",
    "    { 'index': \"IFNC\", 'url_code': \"klGTkM\" },\n",
    "    { 'index': \"IMAT\", 'url_code': \"klNQVQ\" },\n",
    "    { 'index': \"IMOB\", 'url_code': \"klNT0I\" },\n",
    "    { 'index': \"INDX\", 'url_code': \"klORFg\" },\n",
    "    { 'index': \"UTIL\", 'url_code': \"lVUSUw\" }\n",
    "]\n",
    "\n",
    "years = [\n",
    "    { 'year': \"2021\", 'url_code': \"IwMjE\" },\n",
    "    { 'year': \"2020\", 'url_code': \"IwMjA\" },\n",
    "    { 'year': \"2019\", 'url_code': \"IwMTk\" },\n",
    "    { 'year': \"2018\", 'url_code': \"IwMTg\" },\n",
    "    { 'year': \"2017\", 'url_code': \"IwMTc\" },\n",
    "    { 'year': \"2016\", 'url_code': \"IwMTY\" },\n",
    "    { 'year': \"2015\", 'url_code': \"IwMTU\" },\n",
    "    { 'year': \"2014\", 'url_code': \"IwMTQ\" },\n",
    "    { 'year': \"2013\", 'url_code': \"IwMTM\" },\n",
    "    { 'year': \"2012\", 'url_code': \"IwMTI\" },\n",
    "    { 'year': \"2011\", 'url_code': \"IwMTE\" },\n",
    "    { 'year': \"2010\", 'url_code': \"IwMTA\" },\n",
    "    { 'year': \"2009\", 'url_code': \"IwMDk\" },\n",
    "    { 'year': \"2008\", 'url_code': \"IwMDg\" },\n",
    "    { 'year': \"2007\", 'url_code': \"IwMDc\" },\n",
    "    { 'year': \"2006\", 'url_code': \"IwMDY\" },\n",
    "    { 'year': \"2005\", 'url_code': \"IwMDU\" },\n",
    "    { 'year': \"2004\", 'url_code': \"IwMDQ\" },\n",
    "    { 'year': \"2003\", 'url_code': \"IwMDM\" },\n",
    "    { 'year': \"2002\", 'url_code': \"IwMDI\" },\n",
    "    { 'year': \"2001\", 'url_code': \"IwMDE\" },\n",
    "    { 'year': \"2000\", 'url_code': \"IwMDA\" },\n",
    "    { 'year': \"1999\", 'url_code': \"E5OTk\" },\n",
    "    { 'year': \"1998\", 'url_code': \"E5OTg\" }\n",
    "]\n",
    "\n",
    "url_sectors = \"https://sistemaswebb3-listados.b3.com.br/indexStatisticsProxy/IndexCall/GetPortfolioDay/eyJpbmRleCI6I%siLCJsYW5ndWFnZSI6InB0LWJyIiwieWVhciI6Ij%sifQ==\"\n",
    "\n",
    "for i_id, index in enumerate(indexes):\n",
    "    df_index = pd.DataFrame()\n",
    "    for y_id, year in enumerate(years):\n",
    "        r = requests.get(url_sectors % (index['url_code'], year['url_code']), verify=False)\n",
    "        try:\n",
    "            print(f\"\\rProgress: indexes {i_id+1}/{len(indexes)} years {y_id+1}/{len(years)} df_index_size {df_index.shape[0]}\", end=\"\")\n",
    "            r = r.json()\n",
    "        except Exception:\n",
    "            print(f\"Error with index {index['index']} year {year['year']}\")\n",
    "        else:\n",
    "            if r['results']:\n",
    "                for result in r['results']:\n",
    "                    day = result['day']\n",
    "                    for key, val in result.items():\n",
    "                        if key != \"day\":\n",
    "                            date = f\"{year['year']}-{int(key[9:]):02d}-{day:02d}\"\n",
    "                            rate_value = float(val.replace('.', '').replace(',', '.')) if val else pd.NA\n",
    "                            df_new = pd.DataFrame({ 'date': [date], 'rate_value': [rate_value] })\n",
    "                            df_index = pd.concat([df_index, df_new], ignore_index=True)\n",
    "                            \n",
    "    df_index.dropna(inplace=True)\n",
    "    df_index['date'] = pd.to_datetime(df_index['date'])\n",
    "    df_index.sort_values(by=['date', 'rate_value'], inplace=True, ignore_index=True)\n",
    "    df_index.to_csv(f\"./datasets/raw/{index['index']}.csv.zip\")"
   ]
  },
  {
   "cell_type": "markdown",
   "metadata": {},
   "source": [
    "## Explanatory Variables\n",
    "\n",
    "### Interest Rate (SELIC)\n",
    "\n",
    "The SELIC is the basic rate of the economy and serves as a reference for other interest rates (financing) and for remunerating investments corrected by it."
   ]
  },
  {
   "cell_type": "code",
   "execution_count": 7,
   "metadata": {},
   "outputs": [],
   "source": [
    "url_selic = \"http://api.bcb.gov.br/dados/serie/bcdata.sgs.11/dados?formato=csv\"\n",
    "df_selic = pd.read_csv(\n",
    "    url_selic, \n",
    "    delimiter=';',\n",
    "    header=0, \n",
    "    names = ['date', 'rate_value'], \n",
    "    decimal=',',\n",
    "    parse_dates=[0]\n",
    ")\n",
    "df_selic.sort_values(by=['date', 'rate_value'], inplace=True, ignore_index=True)\n",
    "df_selic.to_csv(f\"./datasets/raw/SELIC.csv.zip\")"
   ]
  },
  {
   "cell_type": "markdown",
   "metadata": {},
   "source": [
    "### Volatility Index\n",
    "\n",
    "Volatility, in the financial area, is a measure of dispersion of the returns of a security or market index. The more the price of a stock varies in a short period of time, the greater the risk of making or losing money by trading in that stock - therefore, volatility is a measure of risk."
   ]
  },
  {
   "cell_type": "code",
   "execution_count": 8,
   "metadata": {},
   "outputs": [
    {
     "name": "stdout",
     "output_type": "stream",
     "text": [
      "[*********************100%***********************]  1 of 1 completed\n"
     ]
    }
   ],
   "source": [
    "df_vix = yf.download('^VIX', period='max', interval='1d')\n",
    "df_vix.reset_index(level=0, inplace=True)\n",
    "df_vix.rename(columns={'Adj Close': 'rate_value', 'Date': 'date'}, inplace=True)\n",
    "df_vix = df_vix[:][['date', 'rate_value']]\n",
    "df_vix.sort_values(by=['date', 'rate_value'], inplace=True, ignore_index=True)\n",
    "df_vix.to_csv(f\"./datasets/raw/VIX.csv.zip\")"
   ]
  },
  {
   "cell_type": "markdown",
   "metadata": {},
   "source": [
    "### Price of the Dollar\n",
    "\n",
    "The price of the dollar is basically how much 1 american dollar is worth in reais (brazilian currency) at a given day."
   ]
  },
  {
   "cell_type": "code",
   "execution_count": 9,
   "metadata": {},
   "outputs": [
    {
     "name": "stdout",
     "output_type": "stream",
     "text": [
      "[*********************100%***********************]  1 of 1 completed\n"
     ]
    }
   ],
   "source": [
    "df_dollar = yf.download(\"BRL=X\", period='max', interval='1d')\n",
    "df_dollar.reset_index(level=0, inplace=True)\n",
    "df_dollar.rename(columns={'Adj Close': 'rate_value', 'Date': 'date'}, inplace=True)\n",
    "df_dollar = df_dollar[:][['date', 'rate_value']]\n",
    "df_dollar.sort_values(by=['date', 'rate_value'], inplace=True, ignore_index=True)\n",
    "df_dollar.to_csv(f\"./datasets/raw/DOLLAR.csv.zip\")"
   ]
  },
  {
   "cell_type": "markdown",
   "metadata": {},
   "source": [
    "### Inflation Rate (IPCA)\n",
    "\n",
    "Consumer price index is used to track inflation trends. It is calculated based on the average price needed to buy a set of consumer goods and services in a country, compared to previous periods."
   ]
  },
  {
   "cell_type": "code",
   "execution_count": 9,
   "metadata": {},
   "outputs": [],
   "source": [
    "url_ipca = \"https://apisidra.ibge.gov.br/values/t/1737/n1/all/v/all/p/all/d/v63%202,v69%202,v2266%2013,v2263%202,v2264%202,v2265%202?formato=json\"\n",
    "\n",
    "df_ipca = pd.read_json(url_ipca)\n",
    "df_ipca.drop([0], inplace=True)\n",
    "\n",
    "mask = (df_ipca['MN'] == \"%\")\n",
    "df_ipca = df_ipca[mask]\n",
    "\n",
    "df_ipca.rename(columns={'D3C': 'date'}, inplace=True)\n",
    "df_ipca['date'] = pd.to_datetime(df_ipca['date'], format='%Y%m')\n",
    "df_ipca['V'] = pd.to_numeric(df_ipca['V'])\n",
    "\n",
    "mask = (df_ipca['D2N'] == \"IPCA - Variação mensal\")\n",
    "ipca_pct_change = df_ipca[mask][['date', 'V']].rename(columns={'V': 'rate_value'})\n",
    "\n",
    "df_ipca = ipca_pct_change[:]\n",
    "df_ipca.sort_values(by=['date', 'rate_value'], inplace=True, ignore_index=True)\n",
    "df_ipca.to_csv(f\"./datasets/raw/IPCA.csv.zip\")"
   ]
  },
  {
   "cell_type": "markdown",
   "metadata": {},
   "source": [
    "### GDP\n",
    "\n",
    "Gross Domestic Product represents the sum of all final goods and services produced in a given region, over a given period. GDP is one of the most used indicators in macroeconomics with the objective of quantifying the economic activity of a region."
   ]
  },
  {
   "cell_type": "code",
   "execution_count": 11,
   "metadata": {},
   "outputs": [],
   "source": [
    "gdp_url = \"https://ftp.ibge.gov.br/Contas_Nacionais/Contas_Nacionais_Trimestrais/Tabelas_Completas/Tab_Compl_CNT.zip\"\n",
    "\n",
    "file = ZipFile(BytesIO(requests.get(gdp_url, verify=False).content))\n",
    "xlfile = file.open(\"Tab_Compl_CNT_4T20.xls\")\n",
    "\n",
    "df_gdp = pd.read_excel(\n",
    "    xlfile, \n",
    "    sheet_name='Valores Correntes',\n",
    "    usecols=[0, 17],\n",
    "    names=['date', 'rate_value'],\n",
    "    skiprows=3,\n",
    "    parse_dates=[0]\n",
    ")\n",
    "\n",
    "mask = df_gdp.date.str.findall('[0-9]+\\.[A-Z]+').apply(lambda arr: arr != [])\n",
    "df_gdp = df_gdp[mask].reset_index(drop=True)\n",
    "\n",
    "dates = pd.date_range(start='1996', end='2021', freq='Q')\n",
    "df_gdp['date'] = dates\n",
    "df_gdp.sort_values(by=['date', 'rate_value'], inplace=True, ignore_index=True)\n",
    "df_gdp.to_csv(f\"./datasets/raw/GDP.csv.zip\")"
   ]
  },
  {
   "cell_type": "markdown",
   "metadata": {},
   "source": [
    "# Data Processing\n",
    "\n",
    "Unfortunately the collected data isn't in the prper format for our analysis since some frequencies doesn't match and some variables have missing data. Therefore, it is important to process the data to facilitate our analysis."
   ]
  },
  {
   "cell_type": "code",
   "execution_count": 16,
   "metadata": {},
   "outputs": [],
   "source": [
    "# Read explained variables\n",
    "df_icon = pd.read_csv(\"./datasets/raw/ICON.csv.zip\", parse_dates=[\"date\"])\n",
    "df_ieex = pd.read_csv(\"./datasets/raw/IEEX.csv.zip\", parse_dates=[\"date\"])\n",
    "df_ifnc = pd.read_csv(\"./datasets/raw/IFNC.csv.zip\", parse_dates=[\"date\"])\n",
    "df_imat = pd.read_csv(\"./datasets/raw/IMAT.csv.zip\", parse_dates=[\"date\"])\n",
    "df_imob = pd.read_csv(\"./datasets/raw/IMOB.csv.zip\", parse_dates=[\"date\"])\n",
    "df_indx = pd.read_csv(\"./datasets/raw/INDX.csv.zip\", parse_dates=[\"date\"])\n",
    "df_util = pd.read_csv(\"./datasets/raw/UTIL.csv.zip\", parse_dates=[\"date\"])\n",
    "\n",
    "# Read explanatory variables\n",
    "df_dollar = pd.read_csv(\"./datasets/raw/DOLLAR.csv.zip\", parse_dates=[\"date\"])\n",
    "df_gdp = pd.read_csv(\"./datasets/raw/GDP.csv.zip\", parse_dates=[\"date\"])\n",
    "df_ipca = pd.read_csv(\"./datasets/raw/IPCA.csv.zip\", parse_dates=[\"date\"])\n",
    "df_selic = pd.read_csv(\"./datasets/raw/SELIC.csv.zip\", parse_dates=[\"date\"])\n",
    "df_vix = pd.read_csv(\"./datasets/raw/VIX.csv.zip\", parse_dates=[\"date\"])"
   ]
  },
  {
   "cell_type": "markdown",
   "metadata": {},
   "source": [
    "## Resample \n",
    "\n",
    "All the data collected has a daily frequency except the GDP (quarterly) and the IPCA (monthly) therefore, we need to change their frequency to make their analysis possible."
   ]
  },
  {
   "cell_type": "code",
   "execution_count": 17,
   "metadata": {},
   "outputs": [],
   "source": [
    "# Resamples the GDP dataframe to a daily frequency (repeats the month value to its days)\n",
    "df_gdp = df_gdp.set_index('date').resample('D').ffill().reset_index()\n",
    "\n",
    "# Resamples the IPCA dataframe to a daily frequency (repeats the quarter value to its days)\n",
    "df_ipca = df_ipca.set_index('date').resample('D').ffill().reset_index()"
   ]
  },
  {
   "cell_type": "markdown",
   "metadata": {},
   "source": [
    "## Filter Date Intervals\n",
    "\n",
    "Since we have variables that started to be measured in different moments, we need to find a common ground. To do so, we will only run our analysis in the inner join of all the dataframes."
   ]
  },
  {
   "cell_type": "code",
   "execution_count": 18,
   "metadata": {},
   "outputs": [],
   "source": [
    "# Performas an inner join with all dataframes (select only common dates)\n",
    "df = pd.merge(df_icon, df_ieex, how='inner', on='date')\n",
    "df = pd.merge(df, df_ifnc, how='inner', on='date')\n",
    "df = pd.merge(df, df_imat, how='inner', on='date')\n",
    "df = pd.merge(df, df_imob, how='inner', on='date')\n",
    "df = pd.merge(df, df_indx, how='inner', on='date')\n",
    "df = pd.merge(df, df_util, how='inner', on='date')\n",
    "df = pd.merge(df, df_dollar, how='inner', on='date')\n",
    "df = pd.merge(df, df_gdp, how='inner', on='date')\n",
    "df = pd.merge(df, df_ipca, how='inner', on='date')\n",
    "df = pd.merge(df, df_selic, how='inner', on='date')\n",
    "df = pd.merge(df, df_vix, how='inner', on='date')\n",
    "\n",
    "# Rename columns\n",
    "df.columns = [\"date\", \"ICON\", \"IEEX\", \"IFNC\", \"IMAT\", \"IMOB\", \"INDX\", \"UTIL\", \"DOLLAR\", \"GDP\", \"IPCA\", \"SELIC\", \"VIX\"]\n",
    "\n",
    "# Save the processed dataframe\n",
    "df.to_csv(\"./datasets/proc/daily_variables.csv.zip\")"
   ]
  },
  {
   "cell_type": "markdown",
   "metadata": {},
   "source": [
    "## Resampling final data for monthly analysis"
   ]
  },
  {
   "cell_type": "code",
   "execution_count": 19,
   "metadata": {},
   "outputs": [],
   "source": [
    "# Downsample all variables to a monthly frequency\n",
    "df_monthly = df.resample('m', on='date').last().reset_index(drop=True)\n",
    "\n",
    "# Save the processed dataframe\n",
    "df_monthly.to_csv(\"./datasets/proc/monthly_variables.csv.zip\")"
   ]
  },
  {
   "source": [
    "# Time Series Analysis\n",
    "\n",
    "In this section we are going to perform an ARIMAX "
   ],
   "cell_type": "markdown",
   "metadata": {}
  },
  {
   "cell_type": "code",
   "execution_count": null,
   "metadata": {},
   "outputs": [],
   "source": []
  }
 ],
 "metadata": {
  "kernelspec": {
   "display_name": "Python 3.8.5 64-bit ('venv')",
   "language": "python",
   "name": "python38564bitvenv104dd00143d2433ab4646c6731c6ec84"
  },
  "language_info": {
   "codemirror_mode": {
    "name": "ipython",
    "version": 3
   },
   "file_extension": ".py",
   "mimetype": "text/x-python",
   "name": "python",
   "nbconvert_exporter": "python",
   "pygments_lexer": "ipython3",
   "version": "3.8.5"
  }
 },
 "nbformat": 4,
 "nbformat_minor": 2
}